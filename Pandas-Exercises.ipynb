{
 "cells": [
  {
   "cell_type": "markdown",
   "metadata": {},
   "source": [
    "## Exercise 1"
   ]
  },
  {
   "cell_type": "code",
   "execution_count": 15,
   "metadata": {},
   "outputs": [],
   "source": [
    "import datetime as dt\n",
    "from pandas_datareader import data\n",
    "import pandas as pd\n",
    "import matplotlib.pyplot as plt"
   ]
  },
  {
   "cell_type": "markdown",
   "metadata": {},
   "source": [
    "This program calculates the percentage price change over 2019 of the following shares:"
   ]
  },
  {
   "cell_type": "code",
   "execution_count": 2,
   "metadata": {},
   "outputs": [],
   "source": [
    "ticker_list = {'INTC': 'Intel',\n",
    "               'MSFT': 'Microsoft',\n",
    "               'IBM': 'IBM',\n",
    "               'BHP': 'BHP',\n",
    "               'TM': 'Toyota',\n",
    "               'AAPL': 'Apple',\n",
    "               'AMZN': 'Amazon',\n",
    "               'BA': 'Boeing',\n",
    "               'QCOM': 'Qualcomm',\n",
    "               'KO': 'Coca-Cola',\n",
    "               'GOOG': 'Google',\n",
    "               'SNE': 'Sony',\n",
    "               'PTR': 'PetroChina'}"
   ]
  },
  {
   "cell_type": "code",
   "execution_count": 5,
   "metadata": {},
   "outputs": [],
   "source": [
    "def read_data(ticker_list,\n",
    "          start=dt.datetime(2019, 1, 2),\n",
    "          end=dt.datetime(2019, 12, 31)):\n",
    "    \"\"\"\n",
    "    This function reads in closing price data from Yahoo\n",
    "    for each tick in the ticker_list.\n",
    "    \"\"\"\n",
    "    ticker = pd.DataFrame()\n",
    "\n",
    "    for tick in ticker_list:\n",
    "        prices = data.DataReader(tick, 'yahoo', start, end)\n",
    "        closing_prices = prices['Close']\n",
    "        ticker[tick] = closing_prices\n",
    "\n",
    "    return ticker\n",
    "\n",
    "ticker = read_data(ticker_list)"
   ]
  },
  {
   "cell_type": "code",
   "execution_count": 10,
   "metadata": {},
   "outputs": [
    {
     "data": {
      "text/plain": [
       "38.24206879129919"
      ]
     },
     "execution_count": 10,
     "metadata": {},
     "output_type": "execute_result"
    }
   ],
   "source": [
    "(ticker.INTC.max()/ticker.INTC.min()-1)*100"
   ]
  },
  {
   "cell_type": "code",
   "execution_count": 19,
   "metadata": {},
   "outputs": [],
   "source": [
    "change = (ticker.max()/ticker.min()-1)*100\n",
    "change = change.sort_values()"
   ]
  },
  {
   "cell_type": "code",
   "execution_count": 20,
   "metadata": {},
   "outputs": [
    {
     "data": {
      "text/plain": [
       "<matplotlib.axes._subplots.AxesSubplot at 0x1b448aab5c8>"
      ]
     },
     "execution_count": 20,
     "metadata": {},
     "output_type": "execute_result"
    },
    {
     "data": {
      "image/png": "[encoded data removed]",
      "text/plain": [
       "<Figure size 432x288 with 1 Axes>"
      ]
     },
     "metadata": {
      "needs_background": "light"
     },
     "output_type": "display_data"
    }
   ],
   "source": [
    "change.plot(kind='bar')"
   ]
  },
  {
   "cell_type": "code",
   "execution_count": 29,
   "metadata": {},
   "outputs": [],
   "source": [
    "name = pd.DataFrame.from_dict(ticker_list,orient='index')"
   ]
  },
  {
   "cell_type": "code",
   "execution_count": 35,
   "metadata": {},
   "outputs": [
    {
     "data": {
      "text/plain": [
       "INTC         Intel\n",
       "MSFT     Microsoft\n",
       "IBM            IBM\n",
       "BHP            BHP\n",
       "TM          Toyota\n",
       "AAPL         Apple\n",
       "AMZN        Amazon\n",
       "BA          Boeing\n",
       "QCOM      Qualcomm\n",
       "KO       Coca-Cola\n",
       "GOOG        Google\n",
       "SNE           Sony\n",
       "PTR     PetroChina\n",
       "Name: 0, dtype: object"
      ]
     },
     "execution_count": 35,
     "metadata": {},
     "output_type": "execute_result"
    }
   ],
   "source": [
    "name.iloc[:,0]"
   ]
  },
  {
   "cell_type": "code",
   "execution_count": 41,
   "metadata": {},
   "outputs": [],
   "source": [
    "ticker.columns = name.iloc[:,0]"
   ]
  },
  {
   "cell_type": "code",
   "execution_count": 46,
   "metadata": {},
   "outputs": [
    {
     "data": {
      "text/html": [
       "<div>\n",
       "<style scoped>\n",
       "    .dataframe tbody tr th:only-of-type {\n",
       "        vertical-align: middle;\n",
       "    }\n",
       "\n",
       "    .dataframe tbody tr th {\n",
       "        vertical-align: top;\n",
       "    }\n",
       "\n",
       "    .dataframe thead th {\n",
       "        text-align: right;\n",
       "    }\n",
       "</style>\n",
       "<table border=\"1\" class=\"dataframe\">\n",
       "  <thead>\n",
       "    <tr style=\"text-align: right;\">\n",
       "      <th></th>\n",
       "      <th>Intel</th>\n",
       "      <th>Microsoft</th>\n",
       "      <th>IBM</th>\n",
       "      <th>BHP</th>\n",
       "      <th>Toyota</th>\n",
       "      <th>Apple</th>\n",
       "      <th>Amazon</th>\n",
       "      <th>Boeing</th>\n",
       "      <th>Qualcomm</th>\n",
       "      <th>Coca-Cola</th>\n",
       "      <th>Google</th>\n",
       "      <th>Sony</th>\n",
       "      <th>PetroChina</th>\n",
       "    </tr>\n",
       "  </thead>\n",
       "  <tbody>\n",
       "    <tr>\n",
       "      <td>count</td>\n",
       "      <td>252.000000</td>\n",
       "      <td>252.000000</td>\n",
       "      <td>252.000000</td>\n",
       "      <td>252.000000</td>\n",
       "      <td>252.000000</td>\n",
       "      <td>252.000000</td>\n",
       "      <td>252.000000</td>\n",
       "      <td>252.000000</td>\n",
       "      <td>252.000000</td>\n",
       "      <td>252.000000</td>\n",
       "      <td>252.000000</td>\n",
       "      <td>252.000000</td>\n",
       "      <td>252.000000</td>\n",
       "    </tr>\n",
       "    <tr>\n",
       "      <td>mean</td>\n",
       "      <td>51.375198</td>\n",
       "      <td>130.382024</td>\n",
       "      <td>136.990358</td>\n",
       "      <td>52.134405</td>\n",
       "      <td>128.519921</td>\n",
       "      <td>208.255952</td>\n",
       "      <td>1789.189206</td>\n",
       "      <td>365.027658</td>\n",
       "      <td>71.737302</td>\n",
       "      <td>50.828294</td>\n",
       "      <td>1188.393057</td>\n",
       "      <td>53.773929</td>\n",
       "      <td>56.314643</td>\n",
       "    </tr>\n",
       "    <tr>\n",
       "      <td>std</td>\n",
       "      <td>4.380720</td>\n",
       "      <td>14.900505</td>\n",
       "      <td>6.168318</td>\n",
       "      <td>3.064801</td>\n",
       "      <td>8.233496</td>\n",
       "      <td>34.538978</td>\n",
       "      <td>101.313650</td>\n",
       "      <td>24.404630</td>\n",
       "      <td>12.385442</td>\n",
       "      <td>3.270630</td>\n",
       "      <td>81.765383</td>\n",
       "      <td>6.753894</td>\n",
       "      <td>6.805392</td>\n",
       "    </tr>\n",
       "    <tr>\n",
       "      <td>min</td>\n",
       "      <td>43.459999</td>\n",
       "      <td>97.400002</td>\n",
       "      <td>112.910004</td>\n",
       "      <td>46.369999</td>\n",
       "      <td>114.650002</td>\n",
       "      <td>142.190002</td>\n",
       "      <td>1500.280029</td>\n",
       "      <td>310.899994</td>\n",
       "      <td>49.400002</td>\n",
       "      <td>44.689999</td>\n",
       "      <td>1016.059998</td>\n",
       "      <td>42.029999</td>\n",
       "      <td>45.279999</td>\n",
       "    </tr>\n",
       "    <tr>\n",
       "      <td>25%</td>\n",
       "      <td>47.607501</td>\n",
       "      <td>119.340000</td>\n",
       "      <td>134.114998</td>\n",
       "      <td>49.742500</td>\n",
       "      <td>121.932501</td>\n",
       "      <td>186.019997</td>\n",
       "      <td>1735.845032</td>\n",
       "      <td>348.912491</td>\n",
       "      <td>57.485000</td>\n",
       "      <td>47.669999</td>\n",
       "      <td>1121.527466</td>\n",
       "      <td>48.282499</td>\n",
       "      <td>50.312501</td>\n",
       "    </tr>\n",
       "    <tr>\n",
       "      <td>50%</td>\n",
       "      <td>51.075001</td>\n",
       "      <td>135.220001</td>\n",
       "      <td>137.029999</td>\n",
       "      <td>51.879999</td>\n",
       "      <td>126.525002</td>\n",
       "      <td>203.014999</td>\n",
       "      <td>1786.450012</td>\n",
       "      <td>362.925003</td>\n",
       "      <td>74.970001</td>\n",
       "      <td>51.655001</td>\n",
       "      <td>1185.010010</td>\n",
       "      <td>53.695000</td>\n",
       "      <td>54.805000</td>\n",
       "    </tr>\n",
       "    <tr>\n",
       "      <td>75%</td>\n",
       "      <td>54.542499</td>\n",
       "      <td>139.177498</td>\n",
       "      <td>140.570007</td>\n",
       "      <td>54.464999</td>\n",
       "      <td>135.942501</td>\n",
       "      <td>223.684998</td>\n",
       "      <td>1855.319946</td>\n",
       "      <td>375.725006</td>\n",
       "      <td>80.795002</td>\n",
       "      <td>53.869999</td>\n",
       "      <td>1240.017548</td>\n",
       "      <td>59.072501</td>\n",
       "      <td>63.677499</td>\n",
       "    </tr>\n",
       "    <tr>\n",
       "      <td>max</td>\n",
       "      <td>60.080002</td>\n",
       "      <td>158.960007</td>\n",
       "      <td>151.360001</td>\n",
       "      <td>58.970001</td>\n",
       "      <td>145.059998</td>\n",
       "      <td>293.649994</td>\n",
       "      <td>2020.989990</td>\n",
       "      <td>440.619995</td>\n",
       "      <td>94.029999</td>\n",
       "      <td>55.770000</td>\n",
       "      <td>1361.170044</td>\n",
       "      <td>68.250000</td>\n",
       "      <td>68.599998</td>\n",
       "    </tr>\n",
       "  </tbody>\n",
       "</table>\n",
       "</div>"
      ],
      "text/plain": [
       "0           Intel   Microsoft         IBM         BHP      Toyota       Apple  \\\n",
       "count  252.000000  252.000000  252.000000  252.000000  252.000000  252.000000   \n",
       "mean    51.375198  130.382024  136.990358   52.134405  128.519921  208.255952   \n",
       "std      4.380720   14.900505    6.168318    3.064801    8.233496   34.538978   \n",
       "min     43.459999   97.400002  112.910004   46.369999  114.650002  142.190002   \n",
       "25%     47.607501  119.340000  134.114998   49.742500  121.932501  186.019997   \n",
       "50%     51.075001  135.220001  137.029999   51.879999  126.525002  203.014999   \n",
       "75%     54.542499  139.177498  140.570007   54.464999  135.942501  223.684998   \n",
       "max     60.080002  158.960007  151.360001   58.970001  145.059998  293.649994   \n",
       "\n",
       "0           Amazon      Boeing    Qualcomm   Coca-Cola       Google  \\\n",
       "count   252.000000  252.000000  252.000000  252.000000   252.000000   \n",
       "mean   1789.189206  365.027658   71.737302   50.828294  1188.393057   \n",
       "std     101.313650   24.404630   12.385442    3.270630    81.765383   \n",
       "min    1500.280029  310.899994   49.400002   44.689999  1016.059998   \n",
       "25%    1735.845032  348.912491   57.485000   47.669999  1121.527466   \n",
       "50%    1786.450012  362.925003   74.970001   51.655001  1185.010010   \n",
       "75%    1855.319946  375.725006   80.795002   53.869999  1240.017548   \n",
       "max    2020.989990  440.619995   94.029999   55.770000  1361.170044   \n",
       "\n",
       "0            Sony  PetroChina  \n",
       "count  252.000000  252.000000  \n",
       "mean    53.773929   56.314643  \n",
       "std      6.753894    6.805392  \n",
       "min     42.029999   45.279999  \n",
       "25%     48.282499   50.312501  \n",
       "50%     53.695000   54.805000  \n",
       "75%     59.072501   63.677499  \n",
       "max     68.250000   68.599998  "
      ]
     },
     "execution_count": 46,
     "metadata": {},
     "output_type": "execute_result"
    }
   ],
   "source": [
    "ticker.describe()"
   ]
  },
  {
   "cell_type": "code",
   "execution_count": 55,
   "metadata": {},
   "outputs": [],
   "source": [
    "change = (ticker.max()-ticker.min())/ticker.min()*100\n",
    "change = change.sort_values()"
   ]
  },
  {
   "cell_type": "code",
   "execution_count": 56,
   "metadata": {},
   "outputs": [
    {
     "data": {
      "text/plain": [
       "<matplotlib.axes._subplots.AxesSubplot at 0x1b44a7da748>"
      ]
     },
     "execution_count": 56,
     "metadata": {},
     "output_type": "execute_result"
    },
    {
     "data": {
      "image/png": "[encoded data removed]",
      "text/plain": [
       "<Figure size 432x288 with 1 Axes>"
      ]
     },
     "metadata": {
      "needs_background": "light"
     },
     "output_type": "display_data"
    }
   ],
   "source": [
    "change.plot(kind='bar')"
   ]
  },
  {
   "cell_type": "code",
   "execution_count": 53,
   "metadata": {},
   "outputs": [
    {
     "data": {
      "text/plain": [
       "0\n",
       "Intel         27.124036\n",
       "Microsoft     55.953316\n",
       "IBM           16.344062\n",
       "BHP           14.312575\n",
       "Toyota        20.863429\n",
       "Apple         85.948580\n",
       "Amazon        20.057432\n",
       "Boeing         0.602209\n",
       "Qualcomm      53.710803\n",
       "Coca-Cola     17.941611\n",
       "Google        27.840517\n",
       "Sony          39.573067\n",
       "PetroChina   -17.369887\n",
       "dtype: float64"
      ]
     },
     "execution_count": 53,
     "metadata": {},
     "output_type": "execute_result"
    }
   ],
   "source": [
    "p1 = ticker.iloc[0]\n",
    "p2 = ticker.iloc[-1]\n",
    "price_change = (p2-p1)/p1 *100\n",
    "price_change"
   ]
  },
  {
   "cell_type": "code",
   "execution_count": null,
   "metadata": {},
   "outputs": [],
   "source": []
  }
 ],
 "metadata": {
  "kernelspec": {
   "display_name": "Python 3",
   "language": "python",
   "name": "python3"
  },
  "language_info": {
   "codemirror_mode": {
    "name": "ipython",
    "version": 3
   },
   "file_extension": ".py",
   "mimetype": "text/x-python",
   "name": "python",
   "nbconvert_exporter": "python",
   "pygments_lexer": "ipython3",
   "version": "3.7.6"
  }
 },
 "nbformat": 4,
 "nbformat_minor": 4
}
